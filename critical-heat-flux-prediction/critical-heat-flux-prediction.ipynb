{
 "cells": [
  {
   "cell_type": "markdown",
   "id": "20b4f295-23bb-40c4-9208-828e5a56b90c",
   "metadata": {},
   "source": [
    "## Critical Heat Flux Prediction\n",
    "\n",
    "Given data about various experimental conditions, let's try to predict the **critical heat flux** for a given experiment. \n",
    "\n",
    "We will use a random forest regression model to make our predictions. \n",
    "\n",
    "Data Source: https://www.kaggle.com/datasets/saurabhshahane/predicting-heat-flux"
   ]
  },
  {
   "cell_type": "markdown",
   "id": "d094ffd8-136a-454c-9669-2217aac19c08",
   "metadata": {},
   "source": [
    "### Getting Started"
   ]
  },
  {
   "cell_type": "code",
   "execution_count": 1,
   "id": "f14ea270-c8b3-4ef4-a704-a629336397e2",
   "metadata": {},
   "outputs": [],
   "source": [
    "import numpy as np\n",
    "import pandas as pd\n",
    "\n",
    "from sklearn.model_selection import KFold\n",
    "from sklearn.preprocessing import OneHotEncoder\n",
    "from sklearn.compose import ColumnTransformer\n",
    "from sklearn.pipeline import Pipeline\n",
    "\n",
    "from sklearn.ensemble import RandomForestRegressor"
   ]
  },
  {
   "cell_type": "code",
   "execution_count": 2,
   "id": "78a0c05c-6083-4770-8980-e2c2ceab9654",
   "metadata": {},
   "outputs": [
    {
     "data": {
      "text/html": [
       "<div>\n",
       "<style scoped>\n",
       "    .dataframe tbody tr th:only-of-type {\n",
       "        vertical-align: middle;\n",
       "    }\n",
       "\n",
       "    .dataframe tbody tr th {\n",
       "        vertical-align: top;\n",
       "    }\n",
       "\n",
       "    .dataframe thead th {\n",
       "        text-align: right;\n",
       "    }\n",
       "</style>\n",
       "<table border=\"1\" class=\"dataframe\">\n",
       "  <thead>\n",
       "    <tr style=\"text-align: right;\">\n",
       "      <th></th>\n",
       "      <th>id</th>\n",
       "      <th>author</th>\n",
       "      <th>geometry</th>\n",
       "      <th>pressure [MPa]</th>\n",
       "      <th>mass_flux [kg/m2-s]</th>\n",
       "      <th>x_e_out [-]</th>\n",
       "      <th>D_e [mm]</th>\n",
       "      <th>D_h [mm]</th>\n",
       "      <th>length [mm]</th>\n",
       "      <th>chf_exp [MW/m2]</th>\n",
       "    </tr>\n",
       "  </thead>\n",
       "  <tbody>\n",
       "    <tr>\n",
       "      <th>0</th>\n",
       "      <td>1</td>\n",
       "      <td>Inasaka</td>\n",
       "      <td>tube</td>\n",
       "      <td>0.39</td>\n",
       "      <td>5600</td>\n",
       "      <td>-0.1041</td>\n",
       "      <td>3.0</td>\n",
       "      <td>3.0</td>\n",
       "      <td>100</td>\n",
       "      <td>11.3</td>\n",
       "    </tr>\n",
       "    <tr>\n",
       "      <th>1</th>\n",
       "      <td>2</td>\n",
       "      <td>Inasaka</td>\n",
       "      <td>tube</td>\n",
       "      <td>0.31</td>\n",
       "      <td>6700</td>\n",
       "      <td>-0.0596</td>\n",
       "      <td>3.0</td>\n",
       "      <td>3.0</td>\n",
       "      <td>100</td>\n",
       "      <td>10.6</td>\n",
       "    </tr>\n",
       "    <tr>\n",
       "      <th>2</th>\n",
       "      <td>3</td>\n",
       "      <td>Inasaka</td>\n",
       "      <td>tube</td>\n",
       "      <td>0.33</td>\n",
       "      <td>4300</td>\n",
       "      <td>-0.0395</td>\n",
       "      <td>3.0</td>\n",
       "      <td>3.0</td>\n",
       "      <td>100</td>\n",
       "      <td>7.3</td>\n",
       "    </tr>\n",
       "    <tr>\n",
       "      <th>3</th>\n",
       "      <td>4</td>\n",
       "      <td>Inasaka</td>\n",
       "      <td>tube</td>\n",
       "      <td>0.62</td>\n",
       "      <td>6400</td>\n",
       "      <td>-0.1460</td>\n",
       "      <td>3.0</td>\n",
       "      <td>3.0</td>\n",
       "      <td>100</td>\n",
       "      <td>12.8</td>\n",
       "    </tr>\n",
       "    <tr>\n",
       "      <th>4</th>\n",
       "      <td>5</td>\n",
       "      <td>Inasaka</td>\n",
       "      <td>tube</td>\n",
       "      <td>0.64</td>\n",
       "      <td>4700</td>\n",
       "      <td>-0.0849</td>\n",
       "      <td>3.0</td>\n",
       "      <td>3.0</td>\n",
       "      <td>100</td>\n",
       "      <td>11.0</td>\n",
       "    </tr>\n",
       "    <tr>\n",
       "      <th>...</th>\n",
       "      <td>...</td>\n",
       "      <td>...</td>\n",
       "      <td>...</td>\n",
       "      <td>...</td>\n",
       "      <td>...</td>\n",
       "      <td>...</td>\n",
       "      <td>...</td>\n",
       "      <td>...</td>\n",
       "      <td>...</td>\n",
       "      <td>...</td>\n",
       "    </tr>\n",
       "    <tr>\n",
       "      <th>1860</th>\n",
       "      <td>1861</td>\n",
       "      <td>Richenderfer</td>\n",
       "      <td>plate</td>\n",
       "      <td>1.01</td>\n",
       "      <td>1500</td>\n",
       "      <td>-0.0218</td>\n",
       "      <td>15.0</td>\n",
       "      <td>120.0</td>\n",
       "      <td>10</td>\n",
       "      <td>9.4</td>\n",
       "    </tr>\n",
       "    <tr>\n",
       "      <th>1861</th>\n",
       "      <td>1862</td>\n",
       "      <td>Richenderfer</td>\n",
       "      <td>plate</td>\n",
       "      <td>1.01</td>\n",
       "      <td>1500</td>\n",
       "      <td>-0.0434</td>\n",
       "      <td>15.0</td>\n",
       "      <td>120.0</td>\n",
       "      <td>10</td>\n",
       "      <td>10.4</td>\n",
       "    </tr>\n",
       "    <tr>\n",
       "      <th>1862</th>\n",
       "      <td>1863</td>\n",
       "      <td>Richenderfer</td>\n",
       "      <td>plate</td>\n",
       "      <td>1.01</td>\n",
       "      <td>2000</td>\n",
       "      <td>-0.0109</td>\n",
       "      <td>15.0</td>\n",
       "      <td>120.0</td>\n",
       "      <td>10</td>\n",
       "      <td>10.8</td>\n",
       "    </tr>\n",
       "    <tr>\n",
       "      <th>1863</th>\n",
       "      <td>1864</td>\n",
       "      <td>Richenderfer</td>\n",
       "      <td>plate</td>\n",
       "      <td>1.01</td>\n",
       "      <td>2000</td>\n",
       "      <td>-0.0218</td>\n",
       "      <td>15.0</td>\n",
       "      <td>120.0</td>\n",
       "      <td>10</td>\n",
       "      <td>10.9</td>\n",
       "    </tr>\n",
       "    <tr>\n",
       "      <th>1864</th>\n",
       "      <td>1865</td>\n",
       "      <td>Richenderfer</td>\n",
       "      <td>plate</td>\n",
       "      <td>1.01</td>\n",
       "      <td>2000</td>\n",
       "      <td>-0.0434</td>\n",
       "      <td>15.0</td>\n",
       "      <td>120.0</td>\n",
       "      <td>10</td>\n",
       "      <td>11.5</td>\n",
       "    </tr>\n",
       "  </tbody>\n",
       "</table>\n",
       "<p>1865 rows × 10 columns</p>\n",
       "</div>"
      ],
      "text/plain": [
       "        id        author geometry  pressure [MPa]  mass_flux [kg/m2-s]  \\\n",
       "0        1       Inasaka     tube            0.39                 5600   \n",
       "1        2       Inasaka     tube            0.31                 6700   \n",
       "2        3       Inasaka     tube            0.33                 4300   \n",
       "3        4       Inasaka     tube            0.62                 6400   \n",
       "4        5       Inasaka     tube            0.64                 4700   \n",
       "...    ...           ...      ...             ...                  ...   \n",
       "1860  1861  Richenderfer    plate            1.01                 1500   \n",
       "1861  1862  Richenderfer    plate            1.01                 1500   \n",
       "1862  1863  Richenderfer    plate            1.01                 2000   \n",
       "1863  1864  Richenderfer    plate            1.01                 2000   \n",
       "1864  1865  Richenderfer    plate            1.01                 2000   \n",
       "\n",
       "      x_e_out [-]  D_e [mm]  D_h [mm]  length [mm]  chf_exp [MW/m2]  \n",
       "0         -0.1041       3.0       3.0          100             11.3  \n",
       "1         -0.0596       3.0       3.0          100             10.6  \n",
       "2         -0.0395       3.0       3.0          100              7.3  \n",
       "3         -0.1460       3.0       3.0          100             12.8  \n",
       "4         -0.0849       3.0       3.0          100             11.0  \n",
       "...           ...       ...       ...          ...              ...  \n",
       "1860      -0.0218      15.0     120.0           10              9.4  \n",
       "1861      -0.0434      15.0     120.0           10             10.4  \n",
       "1862      -0.0109      15.0     120.0           10             10.8  \n",
       "1863      -0.0218      15.0     120.0           10             10.9  \n",
       "1864      -0.0434      15.0     120.0           10             11.5  \n",
       "\n",
       "[1865 rows x 10 columns]"
      ]
     },
     "execution_count": 2,
     "metadata": {},
     "output_type": "execute_result"
    }
   ],
   "source": [
    "data = pd.read_csv('Data_CHF_Zhao_2020_ATE.csv')\n",
    "data"
   ]
  },
  {
   "cell_type": "code",
   "execution_count": 3,
   "id": "a50d58fc-4845-4777-8162-9e743f3c40ec",
   "metadata": {},
   "outputs": [
    {
     "name": "stdout",
     "output_type": "stream",
     "text": [
      "<class 'pandas.core.frame.DataFrame'>\n",
      "RangeIndex: 1865 entries, 0 to 1864\n",
      "Data columns (total 10 columns):\n",
      " #   Column               Non-Null Count  Dtype  \n",
      "---  ------               --------------  -----  \n",
      " 0   id                   1865 non-null   int64  \n",
      " 1   author               1865 non-null   object \n",
      " 2   geometry             1865 non-null   object \n",
      " 3   pressure [MPa]       1865 non-null   float64\n",
      " 4   mass_flux [kg/m2-s]  1865 non-null   int64  \n",
      " 5   x_e_out [-]          1865 non-null   float64\n",
      " 6   D_e [mm]             1865 non-null   float64\n",
      " 7   D_h [mm]             1865 non-null   float64\n",
      " 8   length [mm]          1865 non-null   int64  \n",
      " 9   chf_exp [MW/m2]      1865 non-null   float64\n",
      "dtypes: float64(5), int64(3), object(2)\n",
      "memory usage: 145.8+ KB\n"
     ]
    }
   ],
   "source": [
    "data.info()"
   ]
  },
  {
   "cell_type": "markdown",
   "id": "63c33425-7437-44e1-b306-ddfe0311cc9c",
   "metadata": {},
   "source": [
    "### Preprocessing"
   ]
  },
  {
   "cell_type": "code",
   "execution_count": 12,
   "id": "d82bd950-25cc-4308-b72f-d1613607a24a",
   "metadata": {},
   "outputs": [],
   "source": [
    "def preprocess_inputs(df):\n",
    "    df = df.copy()\n",
    "\n",
    "    # Drop id and author columns\n",
    "    df = df.drop(['id', 'author'], axis=1)\n",
    "\n",
    "    # Shuffle the dataset\n",
    "    df = df.sample(frac=1.0, random_state=1)\n",
    "\n",
    "    # split df into X and y\n",
    "    y = df['chf_exp [MW/m2]']\n",
    "    X = df.drop(['chf_exp [MW/m2]'], axis=1)\n",
    "    \n",
    "    return X, y"
   ]
  },
  {
   "cell_type": "code",
   "execution_count": 13,
   "id": "11220569-8053-40ca-a4f8-24200af67135",
   "metadata": {},
   "outputs": [],
   "source": [
    "X, y = preprocess_inputs(data)"
   ]
  },
  {
   "cell_type": "code",
   "execution_count": 14,
   "id": "12fde65c-a437-4a89-b652-078a46b9d5a8",
   "metadata": {},
   "outputs": [
    {
     "data": {
      "text/html": [
       "<div>\n",
       "<style scoped>\n",
       "    .dataframe tbody tr th:only-of-type {\n",
       "        vertical-align: middle;\n",
       "    }\n",
       "\n",
       "    .dataframe tbody tr th {\n",
       "        vertical-align: top;\n",
       "    }\n",
       "\n",
       "    .dataframe thead th {\n",
       "        text-align: right;\n",
       "    }\n",
       "</style>\n",
       "<table border=\"1\" class=\"dataframe\">\n",
       "  <thead>\n",
       "    <tr style=\"text-align: right;\">\n",
       "      <th></th>\n",
       "      <th>geometry</th>\n",
       "      <th>pressure [MPa]</th>\n",
       "      <th>mass_flux [kg/m2-s]</th>\n",
       "      <th>x_e_out [-]</th>\n",
       "      <th>D_e [mm]</th>\n",
       "      <th>D_h [mm]</th>\n",
       "      <th>length [mm]</th>\n",
       "    </tr>\n",
       "  </thead>\n",
       "  <tbody>\n",
       "    <tr>\n",
       "      <th>400</th>\n",
       "      <td>tube</td>\n",
       "      <td>6.89</td>\n",
       "      <td>1967</td>\n",
       "      <td>0.1203</td>\n",
       "      <td>12.8</td>\n",
       "      <td>12.8</td>\n",
       "      <td>1930</td>\n",
       "    </tr>\n",
       "    <tr>\n",
       "      <th>571</th>\n",
       "      <td>tube</td>\n",
       "      <td>11.03</td>\n",
       "      <td>2034</td>\n",
       "      <td>0.0616</td>\n",
       "      <td>9.3</td>\n",
       "      <td>9.3</td>\n",
       "      <td>762</td>\n",
       "    </tr>\n",
       "    <tr>\n",
       "      <th>351</th>\n",
       "      <td>tube</td>\n",
       "      <td>7.00</td>\n",
       "      <td>4069</td>\n",
       "      <td>0.0636</td>\n",
       "      <td>10.8</td>\n",
       "      <td>10.8</td>\n",
       "      <td>864</td>\n",
       "    </tr>\n",
       "    <tr>\n",
       "      <th>1479</th>\n",
       "      <td>annulus</td>\n",
       "      <td>13.79</td>\n",
       "      <td>2729</td>\n",
       "      <td>0.0537</td>\n",
       "      <td>5.6</td>\n",
       "      <td>15.2</td>\n",
       "      <td>2134</td>\n",
       "    </tr>\n",
       "    <tr>\n",
       "      <th>1371</th>\n",
       "      <td>tube</td>\n",
       "      <td>13.79</td>\n",
       "      <td>690</td>\n",
       "      <td>-0.4854</td>\n",
       "      <td>11.1</td>\n",
       "      <td>11.1</td>\n",
       "      <td>457</td>\n",
       "    </tr>\n",
       "    <tr>\n",
       "      <th>...</th>\n",
       "      <td>...</td>\n",
       "      <td>...</td>\n",
       "      <td>...</td>\n",
       "      <td>...</td>\n",
       "      <td>...</td>\n",
       "      <td>...</td>\n",
       "      <td>...</td>\n",
       "    </tr>\n",
       "    <tr>\n",
       "      <th>905</th>\n",
       "      <td>tube</td>\n",
       "      <td>13.79</td>\n",
       "      <td>4910</td>\n",
       "      <td>0.1131</td>\n",
       "      <td>4.7</td>\n",
       "      <td>4.7</td>\n",
       "      <td>318</td>\n",
       "    </tr>\n",
       "    <tr>\n",
       "      <th>1791</th>\n",
       "      <td>annulus</td>\n",
       "      <td>6.85</td>\n",
       "      <td>2292</td>\n",
       "      <td>0.0330</td>\n",
       "      <td>8.5</td>\n",
       "      <td>24.6</td>\n",
       "      <td>1778</td>\n",
       "    </tr>\n",
       "    <tr>\n",
       "      <th>1096</th>\n",
       "      <td>tube</td>\n",
       "      <td>13.79</td>\n",
       "      <td>2116</td>\n",
       "      <td>0.0926</td>\n",
       "      <td>7.8</td>\n",
       "      <td>7.8</td>\n",
       "      <td>591</td>\n",
       "    </tr>\n",
       "    <tr>\n",
       "      <th>235</th>\n",
       "      <td>tube</td>\n",
       "      <td>6.89</td>\n",
       "      <td>4042</td>\n",
       "      <td>-0.0008</td>\n",
       "      <td>10.3</td>\n",
       "      <td>10.3</td>\n",
       "      <td>762</td>\n",
       "    </tr>\n",
       "    <tr>\n",
       "      <th>1061</th>\n",
       "      <td>tube</td>\n",
       "      <td>13.79</td>\n",
       "      <td>1113</td>\n",
       "      <td>0.1584</td>\n",
       "      <td>7.8</td>\n",
       "      <td>7.8</td>\n",
       "      <td>591</td>\n",
       "    </tr>\n",
       "  </tbody>\n",
       "</table>\n",
       "<p>1865 rows × 7 columns</p>\n",
       "</div>"
      ],
      "text/plain": [
       "     geometry  pressure [MPa]  mass_flux [kg/m2-s]  x_e_out [-]  D_e [mm]  \\\n",
       "400      tube            6.89                 1967       0.1203      12.8   \n",
       "571      tube           11.03                 2034       0.0616       9.3   \n",
       "351      tube            7.00                 4069       0.0636      10.8   \n",
       "1479  annulus           13.79                 2729       0.0537       5.6   \n",
       "1371     tube           13.79                  690      -0.4854      11.1   \n",
       "...       ...             ...                  ...          ...       ...   \n",
       "905      tube           13.79                 4910       0.1131       4.7   \n",
       "1791  annulus            6.85                 2292       0.0330       8.5   \n",
       "1096     tube           13.79                 2116       0.0926       7.8   \n",
       "235      tube            6.89                 4042      -0.0008      10.3   \n",
       "1061     tube           13.79                 1113       0.1584       7.8   \n",
       "\n",
       "      D_h [mm]  length [mm]  \n",
       "400       12.8         1930  \n",
       "571        9.3          762  \n",
       "351       10.8          864  \n",
       "1479      15.2         2134  \n",
       "1371      11.1          457  \n",
       "...        ...          ...  \n",
       "905        4.7          318  \n",
       "1791      24.6         1778  \n",
       "1096       7.8          591  \n",
       "235       10.3          762  \n",
       "1061       7.8          591  \n",
       "\n",
       "[1865 rows x 7 columns]"
      ]
     },
     "execution_count": 14,
     "metadata": {},
     "output_type": "execute_result"
    }
   ],
   "source": [
    "X"
   ]
  },
  {
   "cell_type": "code",
   "execution_count": 15,
   "id": "a45bb586-4dc2-452a-b1d5-1167a641973f",
   "metadata": {},
   "outputs": [
    {
     "data": {
      "text/html": [
       "<div>\n",
       "<style scoped>\n",
       "    .dataframe tbody tr th:only-of-type {\n",
       "        vertical-align: middle;\n",
       "    }\n",
       "\n",
       "    .dataframe tbody tr th {\n",
       "        vertical-align: top;\n",
       "    }\n",
       "\n",
       "    .dataframe thead th {\n",
       "        text-align: right;\n",
       "    }\n",
       "</style>\n",
       "<table border=\"1\" class=\"dataframe\">\n",
       "  <thead>\n",
       "    <tr style=\"text-align: right;\">\n",
       "      <th></th>\n",
       "      <th>annulus</th>\n",
       "      <th>plate</th>\n",
       "      <th>tube</th>\n",
       "    </tr>\n",
       "  </thead>\n",
       "  <tbody>\n",
       "    <tr>\n",
       "      <th>0</th>\n",
       "      <td>0</td>\n",
       "      <td>0</td>\n",
       "      <td>1</td>\n",
       "    </tr>\n",
       "    <tr>\n",
       "      <th>1</th>\n",
       "      <td>1</td>\n",
       "      <td>0</td>\n",
       "      <td>0</td>\n",
       "    </tr>\n",
       "    <tr>\n",
       "      <th>2</th>\n",
       "      <td>0</td>\n",
       "      <td>1</td>\n",
       "      <td>0</td>\n",
       "    </tr>\n",
       "  </tbody>\n",
       "</table>\n",
       "</div>"
      ],
      "text/plain": [
       "   annulus  plate  tube\n",
       "0        0      0     1\n",
       "1        1      0     0\n",
       "2        0      1     0"
      ]
     },
     "execution_count": 15,
     "metadata": {},
     "output_type": "execute_result"
    }
   ],
   "source": [
    "pd.get_dummies(X['geometry'].unique(), dtype=int)"
   ]
  },
  {
   "cell_type": "code",
   "execution_count": 16,
   "id": "3c073aef-abc7-4ff9-8a2c-59586d9a2d73",
   "metadata": {},
   "outputs": [
    {
     "data": {
      "text/plain": [
       "400     2.8\n",
       "571     3.2\n",
       "351     3.2\n",
       "1479    1.7\n",
       "1371    3.6\n",
       "       ... \n",
       "905     3.0\n",
       "1791    4.0\n",
       "1096    2.1\n",
       "235     4.0\n",
       "1061    2.0\n",
       "Name: chf_exp [MW/m2], Length: 1865, dtype: float64"
      ]
     },
     "execution_count": 16,
     "metadata": {},
     "output_type": "execute_result"
    }
   ],
   "source": [
    "y"
   ]
  },
  {
   "cell_type": "markdown",
   "id": "12e90b9d-0fcf-44e5-84b9-cdeb3982c8e6",
   "metadata": {},
   "source": [
    "### Building Pipeline"
   ]
  },
  {
   "cell_type": "code",
   "execution_count": 17,
   "id": "79c7a1c4-5fe3-428e-b500-ae342d0d8940",
   "metadata": {},
   "outputs": [],
   "source": [
    "def build_model():\n",
    "\n",
    "    nominal_transformer = Pipeline(steps=[\n",
    "        ('onehot', OneHotEncoder(sparse_output=False, handle_unknown='ignore'))\n",
    "    ])\n",
    "\n",
    "    preprocessor = ColumnTransformer(transformers=[\n",
    "        ('nominal', nominal_transformer, ['geometry'])\n",
    "    ], remainder = 'passthrough')\n",
    "    \n",
    "    model = Pipeline(steps=[\n",
    "        ('preprocessor', preprocessor),\n",
    "        ('regressor', RandomForestRegressor(random_state=1))\n",
    "    ])\n",
    "\n",
    "    return model"
   ]
  },
  {
   "cell_type": "markdown",
   "id": "d6974304-23c0-4b09-abcf-881090118a98",
   "metadata": {},
   "source": [
    "### Training"
   ]
  },
  {
   "cell_type": "code",
   "execution_count": 20,
   "id": "7f84ab36-2800-4f5f-a4ff-8bf0adfcc02b",
   "metadata": {
    "scrolled": true
   },
   "outputs": [],
   "source": [
    "kf = KFold(n_splits = 5)\n",
    "\n",
    "rmses = []\n",
    "\n",
    "for train_idx, test_idx in kf.split(X):\n",
    "    X_train = X.iloc[train_idx, :]\n",
    "    X_test = X.iloc[test_idx, :]\n",
    "    y_train = y.iloc[train_idx]\n",
    "    y_test = y.iloc[test_idx]\n",
    "    \n",
    "    model = build_model()\n",
    "    model.fit(X_train, y_train)\n",
    "\n",
    "    y_pred = model.predict(X_test)\n",
    "\n",
    "    rmse = np.sqrt(np.mean((y_test - y_pred)**2))\n",
    "\n",
    "    rmses.append(rmse)\n",
    "\n",
    "final_rmse = np.mean(rmses)"
   ]
  },
  {
   "cell_type": "code",
   "execution_count": 21,
   "id": "594a5b75-0877-4f4b-b2d8-1b33934b4122",
   "metadata": {},
   "outputs": [
    {
     "name": "stdout",
     "output_type": "stream",
     "text": [
      "RMSE: 0.63\n"
     ]
    }
   ],
   "source": [
    "print(\"RMSE: {:.2f}\".format(final_rmse))"
   ]
  },
  {
   "cell_type": "code",
   "execution_count": 22,
   "id": "ce098349-1bbf-4f78-8568-14aab297cbe8",
   "metadata": {},
   "outputs": [
    {
     "data": {
      "text/plain": [
       "count    373.000000\n",
       "mean       3.735121\n",
       "std        1.871956\n",
       "min        0.900000\n",
       "25%        2.300000\n",
       "50%        3.300000\n",
       "75%        4.600000\n",
       "max       13.300000\n",
       "Name: chf_exp [MW/m2], dtype: float64"
      ]
     },
     "execution_count": 22,
     "metadata": {},
     "output_type": "execute_result"
    }
   ],
   "source": [
    "y_test.describe()"
   ]
  },
  {
   "cell_type": "code",
   "execution_count": 23,
   "id": "820f3cdd-be21-4a6d-b141-e9b6e00ba3e3",
   "metadata": {},
   "outputs": [
    {
     "data": {
      "text/plain": [
       "<Axes: ylabel='Frequency'>"
      ]
     },
     "execution_count": 23,
     "metadata": {},
     "output_type": "execute_result"
    },
    {
     "data": {
      "image/png": "[encoded data removed]",
      "text/plain": [
       "<Figure size 640x480 with 1 Axes>"
      ]
     },
     "metadata": {},
     "output_type": "display_data"
    }
   ],
   "source": [
    "y_test.plot(kind='hist')"
   ]
  },
  {
   "cell_type": "code",
   "execution_count": 24,
   "id": "b75839f6-ef23-4b44-9c21-703850f2244f",
   "metadata": {},
   "outputs": [
    {
     "data": {
      "text/plain": [
       "[0.732922385058682,\n",
       " 0.714811878362217,\n",
       " 0.5744463822782765,\n",
       " 0.5767139021499098,\n",
       " 0.5687141250506902]"
      ]
     },
     "execution_count": 24,
     "metadata": {},
     "output_type": "execute_result"
    }
   ],
   "source": [
    "rmses"
   ]
  },
  {
   "cell_type": "code",
   "execution_count": null,
   "id": "add0947b-67f0-4ecd-9567-16fb48c1e2b3",
   "metadata": {},
   "outputs": [],
   "source": []
  },
  {
   "cell_type": "code",
   "execution_count": null,
   "id": "c5dc5e25-c124-4382-89d2-678312749ef1",
   "metadata": {},
   "outputs": [],
   "source": []
  }
 ],
 "metadata": {
  "kernelspec": {
   "display_name": "Python 3 (ipykernel)",
   "language": "python",
   "name": "python3"
  },
  "language_info": {
   "codemirror_mode": {
    "name": "ipython",
    "version": 3
   },
   "file_extension": ".py",
   "mimetype": "text/x-python",
   "name": "python",
   "nbconvert_exporter": "python",
   "pygments_lexer": "ipython3",
   "version": "3.10.13"
  }
 },
 "nbformat": 4,
 "nbformat_minor": 5
}
