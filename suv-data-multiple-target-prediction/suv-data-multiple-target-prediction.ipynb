{
 "cells": [
  {
   "cell_type": "markdown",
   "id": "4a0cd591-8dae-45c7-b826-c68a6fd8a55d",
   "metadata": {},
   "source": [
    "## SUV Data Multiple Target Prediction\n",
    "\n",
    "Given *data about SUVs*, let's try to predict **a variety of target variables** in the data.\n",
    "\n",
    "We will use a decision tree model to make our predictions. \n",
    "\n",
    "Data source: https://www.kaggle.com/datasets/gabrielsantello/cars-purchase-decision-dataset"
   ]
  },
  {
   "cell_type": "markdown",
   "id": "78c2950d-1ff7-4720-9cc1-26fa7480bb9c",
   "metadata": {},
   "source": [
    "### Getting Started"
   ]
  },
  {
   "cell_type": "code",
   "execution_count": 18,
   "id": "9d5089ab-376d-4053-bdc7-eecfb3edac52",
   "metadata": {},
   "outputs": [],
   "source": [
    "import numpy as np\n",
    "import pandas as pd\n",
    "\n",
    "from sklearn.model_selection import train_test_split\n",
    "from sklearn.preprocessing import FunctionTransformer\n",
    "from sklearn.compose import ColumnTransformer\n",
    "from sklearn.pipeline import Pipeline\n",
    "from sklearn.tree import DecisionTreeRegressor, DecisionTreeClassifier"
   ]
  },
  {
   "cell_type": "code",
   "execution_count": 2,
   "id": "6bbccfdc-543b-44ed-87ac-40a647668c20",
   "metadata": {},
   "outputs": [
    {
     "data": {
      "text/html": [
       "<div>\n",
       "<style scoped>\n",
       "    .dataframe tbody tr th:only-of-type {\n",
       "        vertical-align: middle;\n",
       "    }\n",
       "\n",
       "    .dataframe tbody tr th {\n",
       "        vertical-align: top;\n",
       "    }\n",
       "\n",
       "    .dataframe thead th {\n",
       "        text-align: right;\n",
       "    }\n",
       "</style>\n",
       "<table border=\"1\" class=\"dataframe\">\n",
       "  <thead>\n",
       "    <tr style=\"text-align: right;\">\n",
       "      <th></th>\n",
       "      <th>User ID</th>\n",
       "      <th>Gender</th>\n",
       "      <th>Age</th>\n",
       "      <th>AnnualSalary</th>\n",
       "      <th>Purchased</th>\n",
       "    </tr>\n",
       "  </thead>\n",
       "  <tbody>\n",
       "    <tr>\n",
       "      <th>0</th>\n",
       "      <td>385</td>\n",
       "      <td>Male</td>\n",
       "      <td>35</td>\n",
       "      <td>20000</td>\n",
       "      <td>0</td>\n",
       "    </tr>\n",
       "    <tr>\n",
       "      <th>1</th>\n",
       "      <td>681</td>\n",
       "      <td>Male</td>\n",
       "      <td>40</td>\n",
       "      <td>43500</td>\n",
       "      <td>0</td>\n",
       "    </tr>\n",
       "    <tr>\n",
       "      <th>2</th>\n",
       "      <td>353</td>\n",
       "      <td>Male</td>\n",
       "      <td>49</td>\n",
       "      <td>74000</td>\n",
       "      <td>0</td>\n",
       "    </tr>\n",
       "    <tr>\n",
       "      <th>3</th>\n",
       "      <td>895</td>\n",
       "      <td>Male</td>\n",
       "      <td>40</td>\n",
       "      <td>107500</td>\n",
       "      <td>1</td>\n",
       "    </tr>\n",
       "    <tr>\n",
       "      <th>4</th>\n",
       "      <td>661</td>\n",
       "      <td>Male</td>\n",
       "      <td>25</td>\n",
       "      <td>79000</td>\n",
       "      <td>0</td>\n",
       "    </tr>\n",
       "    <tr>\n",
       "      <th>...</th>\n",
       "      <td>...</td>\n",
       "      <td>...</td>\n",
       "      <td>...</td>\n",
       "      <td>...</td>\n",
       "      <td>...</td>\n",
       "    </tr>\n",
       "    <tr>\n",
       "      <th>995</th>\n",
       "      <td>863</td>\n",
       "      <td>Male</td>\n",
       "      <td>38</td>\n",
       "      <td>59000</td>\n",
       "      <td>0</td>\n",
       "    </tr>\n",
       "    <tr>\n",
       "      <th>996</th>\n",
       "      <td>800</td>\n",
       "      <td>Female</td>\n",
       "      <td>47</td>\n",
       "      <td>23500</td>\n",
       "      <td>0</td>\n",
       "    </tr>\n",
       "    <tr>\n",
       "      <th>997</th>\n",
       "      <td>407</td>\n",
       "      <td>Female</td>\n",
       "      <td>28</td>\n",
       "      <td>138500</td>\n",
       "      <td>1</td>\n",
       "    </tr>\n",
       "    <tr>\n",
       "      <th>998</th>\n",
       "      <td>299</td>\n",
       "      <td>Female</td>\n",
       "      <td>48</td>\n",
       "      <td>134000</td>\n",
       "      <td>1</td>\n",
       "    </tr>\n",
       "    <tr>\n",
       "      <th>999</th>\n",
       "      <td>687</td>\n",
       "      <td>Female</td>\n",
       "      <td>44</td>\n",
       "      <td>73500</td>\n",
       "      <td>0</td>\n",
       "    </tr>\n",
       "  </tbody>\n",
       "</table>\n",
       "<p>1000 rows × 5 columns</p>\n",
       "</div>"
      ],
      "text/plain": [
       "     User ID  Gender  Age  AnnualSalary  Purchased\n",
       "0        385    Male   35         20000          0\n",
       "1        681    Male   40         43500          0\n",
       "2        353    Male   49         74000          0\n",
       "3        895    Male   40        107500          1\n",
       "4        661    Male   25         79000          0\n",
       "..       ...     ...  ...           ...        ...\n",
       "995      863    Male   38         59000          0\n",
       "996      800  Female   47         23500          0\n",
       "997      407  Female   28        138500          1\n",
       "998      299  Female   48        134000          1\n",
       "999      687  Female   44         73500          0\n",
       "\n",
       "[1000 rows x 5 columns]"
      ]
     },
     "execution_count": 2,
     "metadata": {},
     "output_type": "execute_result"
    }
   ],
   "source": [
    "data = pd.read_csv(\"car_data.csv\")\n",
    "data"
   ]
  },
  {
   "cell_type": "code",
   "execution_count": 3,
   "id": "ecb512c1-f104-476a-aebc-a6568c9213ce",
   "metadata": {},
   "outputs": [
    {
     "name": "stdout",
     "output_type": "stream",
     "text": [
      "<class 'pandas.core.frame.DataFrame'>\n",
      "RangeIndex: 1000 entries, 0 to 999\n",
      "Data columns (total 5 columns):\n",
      " #   Column        Non-Null Count  Dtype \n",
      "---  ------        --------------  ----- \n",
      " 0   User ID       1000 non-null   int64 \n",
      " 1   Gender        1000 non-null   object\n",
      " 2   Age           1000 non-null   int64 \n",
      " 3   AnnualSalary  1000 non-null   int64 \n",
      " 4   Purchased     1000 non-null   int64 \n",
      "dtypes: int64(4), object(1)\n",
      "memory usage: 39.2+ KB\n"
     ]
    }
   ],
   "source": [
    "data.info()"
   ]
  },
  {
   "cell_type": "markdown",
   "id": "eaea587e-bff8-48b7-8f6c-72c837ccf38f",
   "metadata": {},
   "source": [
    "### Model Pipeline"
   ]
  },
  {
   "cell_type": "code",
   "execution_count": 16,
   "id": "4a2f17dc-f93c-4d97-bede-363ed4c3c2ee",
   "metadata": {},
   "outputs": [],
   "source": [
    "def predict_on_raw_data(df, target, task):\n",
    "    df = df.copy()\n",
    "    # Drop ID column\n",
    "    df = df.drop('User ID', axis=1)\n",
    "    # Split df into X and y\n",
    "    y = df[target]\n",
    "    X = df.drop(target, axis=1)\n",
    "    # Train test split\n",
    "    X_train, X_test, y_train, y_test = train_test_split(X, y, train_size=0.7, shuffle=True, random_state=1)\n",
    "    # Build pipeline\n",
    "    binary_encoder = Pipeline(steps=[\n",
    "        ('function', FunctionTransformer(lambda column: column.replace({'Female':0, 'Male': 1})))\n",
    "    ])\n",
    "    preprocessor = ColumnTransformer(transformers=[\n",
    "        ('binary', binary_encoder, ['Gender'])\n",
    "    ], remainder='passthrough')\n",
    "    if target == 'Gender':\n",
    "        model = DecisionTreeRegressor() if task == 'regression' else DecisionTreeClassifier()\n",
    "    else:\n",
    "        model = Pipeline(steps=[\n",
    "            ('preprocessor', preprocessor),\n",
    "            ('mod', DecisionTreeRegressor() if task == 'regression' else DecisionTreeClassifier())\n",
    "        ])\n",
    "    # Fit the model\n",
    "    model.fit(X_train, y_train)\n",
    "    # Get Results\n",
    "    result = model.score(X_test, y_test)\n",
    "    return result"
   ]
  },
  {
   "cell_type": "markdown",
   "id": "b3c4a8dd-eb84-434e-bde0-0b8e6378373d",
   "metadata": {},
   "source": [
    "### Results"
   ]
  },
  {
   "cell_type": "code",
   "execution_count": 20,
   "id": "6b826cdd-5191-4779-a16e-f3497ae2a0ba",
   "metadata": {
    "scrolled": true
   },
   "outputs": [
    {
     "name": "stderr",
     "output_type": "stream",
     "text": [
      "/tmp/ipykernel_18018/335325767.py:12: FutureWarning: Downcasting behavior in `replace` is deprecated and will be removed in a future version. To retain the old behavior, explicitly call `result.infer_objects(copy=False)`. To opt-in to the future behavior, set `pd.set_option('future.no_silent_downcasting', True)`\n",
      "  ('function', FunctionTransformer(lambda column: column.replace({'Female':0, 'Male': 1})))\n",
      "/tmp/ipykernel_18018/335325767.py:12: FutureWarning: Downcasting behavior in `replace` is deprecated and will be removed in a future version. To retain the old behavior, explicitly call `result.infer_objects(copy=False)`. To opt-in to the future behavior, set `pd.set_option('future.no_silent_downcasting', True)`\n",
      "  ('function', FunctionTransformer(lambda column: column.replace({'Female':0, 'Male': 1})))\n",
      "/tmp/ipykernel_18018/335325767.py:12: FutureWarning: Downcasting behavior in `replace` is deprecated and will be removed in a future version. To retain the old behavior, explicitly call `result.infer_objects(copy=False)`. To opt-in to the future behavior, set `pd.set_option('future.no_silent_downcasting', True)`\n",
      "  ('function', FunctionTransformer(lambda column: column.replace({'Female':0, 'Male': 1})))\n",
      "/tmp/ipykernel_18018/335325767.py:12: FutureWarning: Downcasting behavior in `replace` is deprecated and will be removed in a future version. To retain the old behavior, explicitly call `result.infer_objects(copy=False)`. To opt-in to the future behavior, set `pd.set_option('future.no_silent_downcasting', True)`\n",
      "  ('function', FunctionTransformer(lambda column: column.replace({'Female':0, 'Male': 1})))\n",
      "/tmp/ipykernel_18018/335325767.py:12: FutureWarning: Downcasting behavior in `replace` is deprecated and will be removed in a future version. To retain the old behavior, explicitly call `result.infer_objects(copy=False)`. To opt-in to the future behavior, set `pd.set_option('future.no_silent_downcasting', True)`\n",
      "  ('function', FunctionTransformer(lambda column: column.replace({'Female':0, 'Male': 1})))\n",
      "/tmp/ipykernel_18018/335325767.py:12: FutureWarning: Downcasting behavior in `replace` is deprecated and will be removed in a future version. To retain the old behavior, explicitly call `result.infer_objects(copy=False)`. To opt-in to the future behavior, set `pd.set_option('future.no_silent_downcasting', True)`\n",
      "  ('function', FunctionTransformer(lambda column: column.replace({'Female':0, 'Male': 1})))\n"
     ]
    }
   ],
   "source": [
    "# Classification\n",
    "gender_acc = predict_on_raw_data(data, target='Gender', task='classification')\n",
    "purchased_acc = predict_on_raw_data(data, target='Purchased', task='classification')\n",
    "\n",
    "# Regression\n",
    "age_r2 = predict_on_raw_data(data, target='Age', task='regression')\n",
    "salary_r2 = predict_on_raw_data(data, target='AnnualSalary', task='regression')"
   ]
  },
  {
   "cell_type": "code",
   "execution_count": 22,
   "id": "834f6111-fa4e-4f38-bc42-fe68d0f27925",
   "metadata": {},
   "outputs": [
    {
     "name": "stdout",
     "output_type": "stream",
     "text": [
      "Target: Gender (Accuracy): 54.00%\n",
      "Target: Purchased (Accuracy): 88.67%\n",
      "Target: Age (R^2): 0.1982\n",
      "Target: AnnualSalary (R^2): -0.0052\n"
     ]
    }
   ],
   "source": [
    "print(\"Target: Gender (Accuracy): {:.2f}%\".format(gender_acc * 100))\n",
    "print(\"Target: Purchased (Accuracy): {:.2f}%\".format(purchased_acc * 100))\n",
    "print(\"Target: Age (R^2): {:.4f}\".format(age_r2))\n",
    "print(\"Target: AnnualSalary (R^2): {:.4f}\".format(salary_r2))"
   ]
  },
  {
   "cell_type": "code",
   "execution_count": null,
   "id": "6d73119d-a269-4814-a079-0f463188cea1",
   "metadata": {},
   "outputs": [],
   "source": []
  },
  {
   "cell_type": "code",
   "execution_count": null,
   "id": "4a9a688c-4b07-497a-a734-3df1a00fa2ee",
   "metadata": {},
   "outputs": [],
   "source": []
  },
  {
   "cell_type": "code",
   "execution_count": null,
   "id": "e1255325-85b3-4c58-a196-a0d8b8c9280c",
   "metadata": {},
   "outputs": [],
   "source": []
  }
 ],
 "metadata": {
  "kernelspec": {
   "display_name": "Python 3 (ipykernel)",
   "language": "python",
   "name": "python3"
  },
  "language_info": {
   "codemirror_mode": {
    "name": "ipython",
    "version": 3
   },
   "file_extension": ".py",
   "mimetype": "text/x-python",
   "name": "python",
   "nbconvert_exporter": "python",
   "pygments_lexer": "ipython3",
   "version": "3.12.2"
  }
 },
 "nbformat": 4,
 "nbformat_minor": 5
}
